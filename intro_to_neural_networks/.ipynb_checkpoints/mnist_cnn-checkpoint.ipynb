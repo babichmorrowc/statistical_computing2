{
 "cells": [
  {
   "cell_type": "markdown",
   "id": "db3aaea0-6cba-4238-9ea7-35819d01534c",
   "metadata": {},
   "source": [
    "1. First convolutional layer: consists of 16 5×5 filters (layer size = 28×28×16=12544)\n",
    "2. First pooling layer: reduces the image by a factor of 2 in all directions (layer size = 14×14×16=3136)\n",
    "3. Second convolutional layer: consists of 32 5×5 filters (layer size = 14×14×32=6272)\n",
    "4. Second pooling layer: reduces the image by a factor of 2 in all directions (layer size = 7×7×32=1568)\n",
    "5. Dense layer: fully-connected layer of 128 nodes\n",
    "6. Output layer: 10 neurons corresponding to the 10 classes (digits from 0-9)"
   ]
  },
  {
   "cell_type": "code",
   "execution_count": 2,
   "id": "0802c8c3-8767-4fd6-9f3c-fc63fbe204ef",
   "metadata": {},
   "outputs": [],
   "source": [
    "import tensorflow as tf\n",
    "\n",
    "\n",
    "\n",
    "model = tf.keras.models.Sequential([\n",
    "    # first convolutional layer\n",
    "    tf.keras.layers.Conv2D( # layer for 2-dimensional image\n",
    "        filters=16,\n",
    "        kernel_size=5,\n",
    "        padding=\"same\",\n",
    "        activation=tf.nn.relu\n",
    "    ),\n",
    "    # first pooling layer\n",
    "    tf.keras.layers.MaxPool2D((2, 2), (2, 2), padding=\"same\"),\n",
    "    # second convolutional layer\n",
    "    tf.keras.layers.Conv2D(\n",
    "        filters=32,\n",
    "        kernel_size=5,\n",
    "        padding=\"same\",\n",
    "        activation=tf.nn.relu\n",
    "    ),\n",
    "    # second pooling layer\n",
    "    tf.keras.layers.MaxPool2D((2, 2), (2, 2), padding=\"same\"),\n",
    "    # flatten layer into a linear set of nodes\n",
    "    tf.keras.layers.Flatten(),\n",
    "    # add a fully connected layer of 128 nodes\n",
    "    tf.keras.layers.Dense(128, activation=\"relu\"),\n",
    "    # use drop-out regularization to randomly ignore 40% of the nodes each training cycle\n",
    "    tf.keras.layers.Dropout(0.4),\n",
    "    # output layer\n",
    "    tf.keras.layers.Dense(10, activation=\"softmax\")\n",
    "])\n",
    "\n"
   ]
  },
  {
   "cell_type": "markdown",
   "id": "74325215-c4b1-4998-b2ea-d5c12c08ca34",
   "metadata": {},
   "source": [
    "We will train the model using sparse categorical cross-entropy for the loss function."
   ]
  },
  {
   "cell_type": "code",
   "execution_count": 3,
   "id": "8899d841-61bc-45ee-80c3-b8b445c2d24d",
   "metadata": {},
   "outputs": [],
   "source": [
    "model.compile(\n",
    "    loss=\"sparse_categorical_crossentropy\",\n",
    "    metrics=[\"accuracy\"],\n",
    ")"
   ]
  },
  {
   "cell_type": "markdown",
   "id": "c39ce606-c07e-4c0f-b060-30fdbf84c4da",
   "metadata": {},
   "source": [
    "We load the data and split it into training and test sets."
   ]
  },
  {
   "cell_type": "code",
   "execution_count": 4,
   "id": "6bd07061-6fe6-4800-93ea-9f8fe94c038a",
   "metadata": {},
   "outputs": [
    {
     "ename": "ModuleNotFoundError",
     "evalue": "No module named 'tensorflow_datasets'",
     "output_type": "error",
     "traceback": [
      "\u001b[0;31m---------------------------------------------------------------------------\u001b[0m",
      "\u001b[0;31mModuleNotFoundError\u001b[0m                       Traceback (most recent call last)",
      "Cell \u001b[0;32mIn[4], line 2\u001b[0m\n\u001b[1;32m      1\u001b[0m \u001b[38;5;28;01mimport\u001b[39;00m \u001b[38;5;21;01mtensorflow\u001b[39;00m \u001b[38;5;28;01mas\u001b[39;00m \u001b[38;5;21;01mtf\u001b[39;00m\n\u001b[0;32m----> 2\u001b[0m \u001b[38;5;28;01mimport\u001b[39;00m \u001b[38;5;21;01mtensorflow_datasets\u001b[39;00m \u001b[38;5;28;01mas\u001b[39;00m \u001b[38;5;21;01mtfds\u001b[39;00m\n\u001b[1;32m      4\u001b[0m ds_train, ds_test \u001b[38;5;241m=\u001b[39m tfds\u001b[38;5;241m.\u001b[39mload(\n\u001b[1;32m      5\u001b[0m     \u001b[38;5;124m\"\u001b[39m\u001b[38;5;124mmnist\u001b[39m\u001b[38;5;124m\"\u001b[39m,\n\u001b[1;32m      6\u001b[0m     split\u001b[38;5;241m=\u001b[39m[\u001b[38;5;124m\"\u001b[39m\u001b[38;5;124mtrain\u001b[39m\u001b[38;5;124m\"\u001b[39m, \u001b[38;5;124m\"\u001b[39m\u001b[38;5;124mtest\u001b[39m\u001b[38;5;124m\"\u001b[39m],\n\u001b[1;32m      7\u001b[0m     as_supervised\u001b[38;5;241m=\u001b[39m\u001b[38;5;28;01mTrue\u001b[39;00m,\n\u001b[1;32m      8\u001b[0m )\n",
      "\u001b[0;31mModuleNotFoundError\u001b[0m: No module named 'tensorflow_datasets'"
     ]
    }
   ],
   "source": [
    "import tensorflow as tf\n",
    "import tensorflow_datasets as tfds\n",
    "\n",
    "ds_train, ds_test = tfds.load(\n",
    "    \"mnist\",\n",
    "    split=[\"train\", \"test\"],\n",
    "    as_supervised=True,\n",
    ")"
   ]
  }
 ],
 "metadata": {
  "kernelspec": {
   "display_name": "Python 3 (ipykernel)",
   "language": "python",
   "name": "python3"
  },
  "language_info": {
   "codemirror_mode": {
    "name": "ipython",
    "version": 3
   },
   "file_extension": ".py",
   "mimetype": "text/x-python",
   "name": "python",
   "nbconvert_exporter": "python",
   "pygments_lexer": "ipython3",
   "version": "3.11.8"
  }
 },
 "nbformat": 4,
 "nbformat_minor": 5
}
