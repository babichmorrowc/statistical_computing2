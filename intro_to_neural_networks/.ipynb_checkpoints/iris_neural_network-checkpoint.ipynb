{
 "cells": [
  {
   "cell_type": "markdown",
   "id": "b7331e9b-6f64-4842-9d5a-1ac235a8c409",
   "metadata": {},
   "source": [
    "Load in the iris dataset:"
   ]
  },
  {
   "cell_type": "code",
   "execution_count": 1,
   "id": "cc8cfeba-1d97-4b9d-a6b4-d6337fc3fa78",
   "metadata": {},
   "outputs": [],
   "source": [
    "from sklearn.datasets import load_iris\n",
    "\n",
    "X, y = load_iris(as_frame=True, return_X_y=True)"
   ]
  },
  {
   "cell_type": "code",
   "execution_count": 3,
   "id": "fb6aa030-577c-44b7-84c3-ee851098c8bf",
   "metadata": {},
   "outputs": [
    {
     "data": {
      "text/html": [
       "<div>\n",
       "<style scoped>\n",
       "    .dataframe tbody tr th:only-of-type {\n",
       "        vertical-align: middle;\n",
       "    }\n",
       "\n",
       "    .dataframe tbody tr th {\n",
       "        vertical-align: top;\n",
       "    }\n",
       "\n",
       "    .dataframe thead th {\n",
       "        text-align: right;\n",
       "    }\n",
       "</style>\n",
       "<table border=\"1\" class=\"dataframe\">\n",
       "  <thead>\n",
       "    <tr style=\"text-align: right;\">\n",
       "      <th></th>\n",
       "      <th>sepal length (cm)</th>\n",
       "      <th>sepal width (cm)</th>\n",
       "      <th>petal length (cm)</th>\n",
       "      <th>petal width (cm)</th>\n",
       "    </tr>\n",
       "  </thead>\n",
       "  <tbody>\n",
       "    <tr>\n",
       "      <th>0</th>\n",
       "      <td>5.1</td>\n",
       "      <td>3.5</td>\n",
       "      <td>1.4</td>\n",
       "      <td>0.2</td>\n",
       "    </tr>\n",
       "    <tr>\n",
       "      <th>1</th>\n",
       "      <td>4.9</td>\n",
       "      <td>3.0</td>\n",
       "      <td>1.4</td>\n",
       "      <td>0.2</td>\n",
       "    </tr>\n",
       "    <tr>\n",
       "      <th>2</th>\n",
       "      <td>4.7</td>\n",
       "      <td>3.2</td>\n",
       "      <td>1.3</td>\n",
       "      <td>0.2</td>\n",
       "    </tr>\n",
       "    <tr>\n",
       "      <th>3</th>\n",
       "      <td>4.6</td>\n",
       "      <td>3.1</td>\n",
       "      <td>1.5</td>\n",
       "      <td>0.2</td>\n",
       "    </tr>\n",
       "    <tr>\n",
       "      <th>4</th>\n",
       "      <td>5.0</td>\n",
       "      <td>3.6</td>\n",
       "      <td>1.4</td>\n",
       "      <td>0.2</td>\n",
       "    </tr>\n",
       "    <tr>\n",
       "      <th>...</th>\n",
       "      <td>...</td>\n",
       "      <td>...</td>\n",
       "      <td>...</td>\n",
       "      <td>...</td>\n",
       "    </tr>\n",
       "    <tr>\n",
       "      <th>145</th>\n",
       "      <td>6.7</td>\n",
       "      <td>3.0</td>\n",
       "      <td>5.2</td>\n",
       "      <td>2.3</td>\n",
       "    </tr>\n",
       "    <tr>\n",
       "      <th>146</th>\n",
       "      <td>6.3</td>\n",
       "      <td>2.5</td>\n",
       "      <td>5.0</td>\n",
       "      <td>1.9</td>\n",
       "    </tr>\n",
       "    <tr>\n",
       "      <th>147</th>\n",
       "      <td>6.5</td>\n",
       "      <td>3.0</td>\n",
       "      <td>5.2</td>\n",
       "      <td>2.0</td>\n",
       "    </tr>\n",
       "    <tr>\n",
       "      <th>148</th>\n",
       "      <td>6.2</td>\n",
       "      <td>3.4</td>\n",
       "      <td>5.4</td>\n",
       "      <td>2.3</td>\n",
       "    </tr>\n",
       "    <tr>\n",
       "      <th>149</th>\n",
       "      <td>5.9</td>\n",
       "      <td>3.0</td>\n",
       "      <td>5.1</td>\n",
       "      <td>1.8</td>\n",
       "    </tr>\n",
       "  </tbody>\n",
       "</table>\n",
       "<p>150 rows × 4 columns</p>\n",
       "</div>"
      ],
      "text/plain": [
       "     sepal length (cm)  sepal width (cm)  petal length (cm)  petal width (cm)\n",
       "0                  5.1               3.5                1.4               0.2\n",
       "1                  4.9               3.0                1.4               0.2\n",
       "2                  4.7               3.2                1.3               0.2\n",
       "3                  4.6               3.1                1.5               0.2\n",
       "4                  5.0               3.6                1.4               0.2\n",
       "..                 ...               ...                ...               ...\n",
       "145                6.7               3.0                5.2               2.3\n",
       "146                6.3               2.5                5.0               1.9\n",
       "147                6.5               3.0                5.2               2.0\n",
       "148                6.2               3.4                5.4               2.3\n",
       "149                5.9               3.0                5.1               1.8\n",
       "\n",
       "[150 rows x 4 columns]"
      ]
     },
     "execution_count": 3,
     "metadata": {},
     "output_type": "execute_result"
    }
   ],
   "source": [
    "X"
   ]
  },
  {
   "cell_type": "code",
   "execution_count": 2,
   "id": "2db1ffe4-6d6a-4ca0-8fc8-bb0635dd1237",
   "metadata": {},
   "outputs": [],
   "source": [
    "from sklearn.model_selection import train_test_split\n",
    "\n",
    "X_train, X_test, y_train, y_test = train_test_split(X, y)"
   ]
  },
  {
   "cell_type": "markdown",
   "id": "45c13f6a-b330-4d79-86bd-d6b3dfbff912",
   "metadata": {},
   "source": [
    "We need to convert our pandas dataframes into tensorflow `Dataset` objects."
   ]
  },
  {
   "cell_type": "code",
   "execution_count": 9,
   "id": "3f1f7ad1-e154-481a-81ee-c752e72ba262",
   "metadata": {},
   "outputs": [],
   "source": [
    "import tensorflow as tf\n",
    "\n",
    "train = tf.data.Dataset.from_tensor_slices((X_train, y_train))\n",
    "test = tf.data.Dataset.from_tensor_slices((X_test, y_test))"
   ]
  },
  {
   "cell_type": "markdown",
   "id": "4f5f80ed-a2a6-48f4-8916-93fdb0c66bc7",
   "metadata": {},
   "source": [
    "We are going to show the model the data 20 times apiece, since each time it sees the same example, it will be at a different point in the training process. We shuffle the data so that it doesn't see examples in the same order every time. The `batch` part of the code shows the examples to the model 32 at a time (which only affects the speed of training, not the outcome)."
   ]
  },
  {
   "cell_type": "code",
   "execution_count": 11,
   "id": "41892867-3fa7-4f54-a83e-64a285dabce9",
   "metadata": {},
   "outputs": [],
   "source": [
    "train = train.repeat(20).shuffle(1000).batch(32)"
   ]
  },
  {
   "cell_type": "code",
   "execution_count": 12,
   "id": "229235ec-6268-4542-804a-24325ec98190",
   "metadata": {},
   "outputs": [],
   "source": [
    "test = test.batch(1)"
   ]
  },
  {
   "cell_type": "markdown",
   "id": "c7271508-dd50-4ec5-972f-8becee667bbc",
   "metadata": {},
   "source": [
    "# Model set-up\n",
    "\n",
    "We set up the model so that we have 2 hidden layers containing 10 nodes apiece. The output layer has 3 nodes because we have three species that we are trying to classify. By using `Dense`, we are specifying that each node is connected to every node in the next layer.\n",
    "\n",
    "The `activation` argument specifies our activation function $\\phi$. The ReLU function is\n",
    "\n",
    "For the output node, we want the output data to be interpretable. In our case, we want to be able to treat the output as a probability that the observation belongs to that particular species."
   ]
  },
  {
   "cell_type": "code",
   "execution_count": 13,
   "id": "1692b833-6fd4-43fe-ac20-d13e64325853",
   "metadata": {},
   "outputs": [],
   "source": [
    "model = tf.keras.Sequential([\n",
    "    tf.keras.layers.Dense(10, activation=tf.nn.relu),   # hidden layer\n",
    "    tf.keras.layers.Dense(10, activation=tf.nn.relu),   # hidden layer\n",
    "    tf.keras.layers.Dense(3, activation=tf.nn.softmax)  # output layer\n",
    "])"
   ]
  },
  {
   "cell_type": "markdown",
   "id": "0e21be63-338f-4124-ad24-28d262680fc3",
   "metadata": {},
   "source": [
    "We need a loss function that can handle data with more than two classes. We are using sparse categorical cross-entropy. We will use accuracy to show how well the model is performing."
   ]
  },
  {
   "cell_type": "code",
   "execution_count": 14,
   "id": "987dedc4-a415-4060-a424-f7fb19ca60f2",
   "metadata": {},
   "outputs": [],
   "source": [
    "model.compile(\n",
    "    loss=\"sparse_categorical_crossentropy\",\n",
    "    metrics=[\"accuracy\"],\n",
    ")"
   ]
  },
  {
   "cell_type": "code",
   "execution_count": 15,
   "id": "effaa1b7-12d5-4e3c-89d9-c35ea226228e",
   "metadata": {},
   "outputs": [
    {
     "name": "stdout",
     "output_type": "stream",
     "text": [
      "Epoch 1/10\n",
      " 1/70 [..............................] - ETA: 46s - loss: 1.2447 - accuracy: 0.2500"
     ]
    },
    {
     "name": "stderr",
     "output_type": "stream",
     "text": [
      "2024-03-15 11:08:17.737809: I external/local_xla/xla/service/service.cc:168] XLA service 0x7088aea4df70 initialized for platform CUDA (this does not guarantee that XLA will be used). Devices:\n",
      "2024-03-15 11:08:17.737830: I external/local_xla/xla/service/service.cc:176]   StreamExecutor device (0): NVIDIA GeForce MX550, Compute Capability 7.5\n",
      "2024-03-15 11:08:17.741363: I tensorflow/compiler/mlir/tensorflow/utils/dump_mlir_util.cc:269] disabling MLIR crash reproducer, set env var `MLIR_CRASH_REPRODUCER_DIRECTORY` to enable.\n",
      "2024-03-15 11:08:17.749016: I external/local_xla/xla/stream_executor/cuda/cuda_dnn.cc:454] Loaded cuDNN version 8907\n",
      "WARNING: All log messages before absl::InitializeLog() is called are written to STDERR\n",
      "I0000 00:00:1710500897.775393   83361 device_compiler.h:186] Compiled cluster using XLA!  This line is logged at most once for the lifetime of the process.\n"
     ]
    },
    {
     "name": "stdout",
     "output_type": "stream",
     "text": [
      "70/70 [==============================] - 1s 4ms/step - loss: 1.0366 - accuracy: 0.4223 - val_loss: 0.9649 - val_accuracy: 0.6579\n",
      "Epoch 2/10\n",
      "70/70 [==============================] - 0s 4ms/step - loss: 0.9025 - accuracy: 0.6504 - val_loss: 0.8150 - val_accuracy: 0.6579\n",
      "Epoch 3/10\n",
      "70/70 [==============================] - 0s 3ms/step - loss: 0.7549 - accuracy: 0.6696 - val_loss: 0.6601 - val_accuracy: 0.6579\n",
      "Epoch 4/10\n",
      "70/70 [==============================] - 0s 3ms/step - loss: 0.6219 - accuracy: 0.7009 - val_loss: 0.5395 - val_accuracy: 0.6579\n",
      "Epoch 5/10\n",
      "70/70 [==============================] - 0s 4ms/step - loss: 0.5214 - accuracy: 0.8031 - val_loss: 0.4653 - val_accuracy: 0.6842\n",
      "Epoch 6/10\n",
      "70/70 [==============================] - 0s 4ms/step - loss: 0.4445 - accuracy: 0.8768 - val_loss: 0.3866 - val_accuracy: 0.9211\n",
      "Epoch 7/10\n",
      "70/70 [==============================] - 0s 3ms/step - loss: 0.3794 - accuracy: 0.9286 - val_loss: 0.3275 - val_accuracy: 0.9737\n",
      "Epoch 8/10\n",
      "70/70 [==============================] - 0s 3ms/step - loss: 0.3203 - accuracy: 0.9531 - val_loss: 0.2817 - val_accuracy: 0.9211\n",
      "Epoch 9/10\n",
      "70/70 [==============================] - 0s 4ms/step - loss: 0.2687 - accuracy: 0.9638 - val_loss: 0.2340 - val_accuracy: 0.9737\n",
      "Epoch 10/10\n",
      "70/70 [==============================] - 0s 4ms/step - loss: 0.2259 - accuracy: 0.9670 - val_loss: 0.1992 - val_accuracy: 0.9737\n"
     ]
    },
    {
     "data": {
      "text/plain": [
       "<keras.src.callbacks.History at 0x7089ef9ce450>"
      ]
     },
     "execution_count": 15,
     "metadata": {},
     "output_type": "execute_result"
    }
   ],
   "source": [
    "model.fit(\n",
    "    train,\n",
    "    validation_data=test,\n",
    "    epochs=10,\n",
    ")"
   ]
  },
  {
   "cell_type": "code",
   "execution_count": 16,
   "id": "9a7c7d86-846c-4e5b-997e-84f30702dace",
   "metadata": {},
   "outputs": [
    {
     "name": "stdout",
     "output_type": "stream",
     "text": [
      "1/1 [==============================] - 0s 69ms/step\n"
     ]
    }
   ],
   "source": [
    "predict_X = [\n",
    "  [5.1, 3.3, 1.7, 0.5],\n",
    "  [5.9, 3.0, 4.2, 1.5],\n",
    "  [6.9, 3.1, 5.4, 2.1],\n",
    "]\n",
    "\n",
    "predictions = model.predict(predict_X)"
   ]
  },
  {
   "cell_type": "code",
   "execution_count": 17,
   "id": "36ed6b39-5621-4fe8-861a-58483b424e05",
   "metadata": {},
   "outputs": [
    {
     "data": {
      "text/plain": [
       "array([9.6228272e-01, 3.7702501e-02, 1.4804093e-05], dtype=float32)"
      ]
     },
     "execution_count": 17,
     "metadata": {},
     "output_type": "execute_result"
    }
   ],
   "source": [
    "predictions[0]"
   ]
  },
  {
   "cell_type": "code",
   "execution_count": 18,
   "id": "cd154012-1d46-4d8b-a57b-d101f3c8d5c9",
   "metadata": {},
   "outputs": [
    {
     "data": {
      "text/plain": [
       "0"
      ]
     },
     "execution_count": 18,
     "metadata": {},
     "output_type": "execute_result"
    }
   ],
   "source": [
    "predictions[0].argmax()"
   ]
  },
  {
   "cell_type": "code",
   "execution_count": 20,
   "id": "115eb22b-1728-4f05-8ea5-0fe4ba5a6a69",
   "metadata": {},
   "outputs": [
    {
     "name": "stdout",
     "output_type": "stream",
     "text": [
      "✓ Prediction is 'setosa' (96.2%), expected 'setosa'\n",
      "✓ Prediction is 'versicolor' (81.2%), expected 'versicolor'\n",
      "✓ Prediction is 'virginica' (70.6%), expected 'virginica'\n"
     ]
    }
   ],
   "source": [
    "for pred_dict, expected in zip(predictions, [\"setosa\", \"versicolor\", \"virginica\"]):\n",
    "    predicted_index = pred_dict.argmax()\n",
    "    predicted = load_iris().target_names[predicted_index]\n",
    "    probability = pred_dict.max()\n",
    "    tick_cross = \"✓\" if predicted == expected else \"✗\"\n",
    "    print(f\"{tick_cross} Prediction is '{predicted}' ({100 * probability:.1f}%), expected '{expected}'\")"
   ]
  },
  {
   "cell_type": "markdown",
   "id": "370c38bb-78ae-43bc-be33-36fe44739d4c",
   "metadata": {},
   "source": [
    "What happens if we decrease the number of hidden layers?"
   ]
  },
  {
   "cell_type": "code",
   "execution_count": 22,
   "id": "d0bcdeb4-1ecc-4893-9c68-9aaed1ecd1c1",
   "metadata": {},
   "outputs": [
    {
     "name": "stdout",
     "output_type": "stream",
     "text": [
      "Epoch 1/10\n",
      "70/70 [==============================] - 1s 4ms/step - loss: 1.1330 - accuracy: 0.4844 - val_loss: 1.0449 - val_accuracy: 0.3947\n",
      "Epoch 2/10\n",
      "70/70 [==============================] - 0s 2ms/step - loss: 0.9321 - accuracy: 0.4353 - val_loss: 0.8834 - val_accuracy: 0.4211\n",
      "Epoch 3/10\n",
      "70/70 [==============================] - 0s 3ms/step - loss: 0.7946 - accuracy: 0.5897 - val_loss: 0.7433 - val_accuracy: 0.7632\n",
      "Epoch 4/10\n",
      "70/70 [==============================] - 0s 3ms/step - loss: 0.6677 - accuracy: 0.8665 - val_loss: 0.6183 - val_accuracy: 0.8421\n",
      "Epoch 5/10\n",
      "70/70 [==============================] - 0s 2ms/step - loss: 0.5527 - accuracy: 0.9246 - val_loss: 0.5001 - val_accuracy: 0.9737\n",
      "Epoch 6/10\n",
      "70/70 [==============================] - 0s 2ms/step - loss: 0.4580 - accuracy: 0.9473 - val_loss: 0.4160 - val_accuracy: 0.9737\n",
      "Epoch 7/10\n",
      "70/70 [==============================] - 0s 2ms/step - loss: 0.3799 - accuracy: 0.9545 - val_loss: 0.3428 - val_accuracy: 0.9737\n",
      "Epoch 8/10\n",
      "70/70 [==============================] - 0s 2ms/step - loss: 0.3197 - accuracy: 0.9621 - val_loss: 0.2825 - val_accuracy: 0.9737\n",
      "Epoch 9/10\n",
      "70/70 [==============================] - 0s 2ms/step - loss: 0.2730 - accuracy: 0.9701 - val_loss: 0.2434 - val_accuracy: 0.9737\n",
      "Epoch 10/10\n",
      "70/70 [==============================] - 0s 2ms/step - loss: 0.2371 - accuracy: 0.9705 - val_loss: 0.2202 - val_accuracy: 0.9737\n"
     ]
    },
    {
     "data": {
      "text/plain": [
       "<keras.src.callbacks.History at 0x7089917dfa50>"
      ]
     },
     "execution_count": 22,
     "metadata": {},
     "output_type": "execute_result"
    }
   ],
   "source": [
    "hidden1_model = tf.keras.Sequential([\n",
    "    tf.keras.layers.Dense(10, activation=tf.nn.relu),   # hidden layer\n",
    "    tf.keras.layers.Dense(3, activation=tf.nn.softmax)  # output layer\n",
    "])\n",
    "hidden1_model.compile(\n",
    "    loss=\"sparse_categorical_crossentropy\",\n",
    "    metrics=[\"accuracy\"],\n",
    ")\n",
    "hidden1_model.fit(\n",
    "    train,\n",
    "    validation_data=test,\n",
    "    epochs=10,\n",
    ")"
   ]
  },
  {
   "cell_type": "markdown",
   "id": "f13b35cb-ff56-4a24-8f9b-bdc3ce82635a",
   "metadata": {},
   "source": [
    "We actually reach `val_accuracy` of 97.37% after 5 epochs, which is faster than the model with 2 hidden layers. Let's try it with 0 hidden layers:"
   ]
  },
  {
   "cell_type": "code",
   "execution_count": 23,
   "id": "0346010b-ffb7-452e-9ce2-f4cfdc9bc360",
   "metadata": {},
   "outputs": [
    {
     "name": "stdout",
     "output_type": "stream",
     "text": [
      "Epoch 1/10\n",
      "70/70 [==============================] - 0s 3ms/step - loss: 0.7249 - accuracy: 0.6210 - val_loss: 0.5925 - val_accuracy: 0.6842\n",
      "Epoch 2/10\n",
      "70/70 [==============================] - 0s 3ms/step - loss: 0.5996 - accuracy: 0.7384 - val_loss: 0.5339 - val_accuracy: 0.6842\n",
      "Epoch 3/10\n",
      "70/70 [==============================] - 0s 3ms/step - loss: 0.5629 - accuracy: 0.7607 - val_loss: 0.5051 - val_accuracy: 0.7105\n",
      "Epoch 4/10\n",
      "70/70 [==============================] - 0s 2ms/step - loss: 0.5388 - accuracy: 0.7728 - val_loss: 0.4827 - val_accuracy: 0.8158\n",
      "Epoch 5/10\n",
      "70/70 [==============================] - 0s 3ms/step - loss: 0.5179 - accuracy: 0.8451 - val_loss: 0.4702 - val_accuracy: 0.6842\n",
      "Epoch 6/10\n",
      "70/70 [==============================] - 0s 3ms/step - loss: 0.4989 - accuracy: 0.8228 - val_loss: 0.4488 - val_accuracy: 0.9737\n",
      "Epoch 7/10\n",
      "70/70 [==============================] - 0s 2ms/step - loss: 0.4812 - accuracy: 0.8763 - val_loss: 0.4342 - val_accuracy: 0.9737\n",
      "Epoch 8/10\n",
      "70/70 [==============================] - 0s 2ms/step - loss: 0.4655 - accuracy: 0.8866 - val_loss: 0.4217 - val_accuracy: 0.8947\n",
      "Epoch 9/10\n",
      "70/70 [==============================] - 0s 2ms/step - loss: 0.4510 - accuracy: 0.8960 - val_loss: 0.4088 - val_accuracy: 0.9737\n",
      "Epoch 10/10\n",
      "70/70 [==============================] - 0s 3ms/step - loss: 0.4373 - accuracy: 0.9094 - val_loss: 0.3981 - val_accuracy: 0.9737\n"
     ]
    },
    {
     "data": {
      "text/plain": [
       "<keras.src.callbacks.History at 0x7089705d8e90>"
      ]
     },
     "execution_count": 23,
     "metadata": {},
     "output_type": "execute_result"
    }
   ],
   "source": [
    "hidden0_model = tf.keras.Sequential([\n",
    "    tf.keras.layers.Dense(3, activation=tf.nn.softmax)  # output layer\n",
    "])\n",
    "hidden0_model.compile(\n",
    "    loss=\"sparse_categorical_crossentropy\",\n",
    "    metrics=[\"accuracy\"],\n",
    ")\n",
    "hidden0_model.fit(\n",
    "    train,\n",
    "    validation_data=test,\n",
    "    epochs=10,\n",
    ")"
   ]
  },
  {
   "cell_type": "markdown",
   "id": "a888a219-c264-45ee-a256-fa0e180193bf",
   "metadata": {},
   "source": [
    "It looks like we don't actually need any hidden layers to get high validation accuracy.\n",
    "\n",
    "What happens if we decrease the number of nodes in the hidden layers?"
   ]
  },
  {
   "cell_type": "code",
   "execution_count": null,
   "id": "d0b380cf-c132-4633-a2cd-0f1686a6bdea",
   "metadata": {},
   "outputs": [],
   "source": []
  }
 ],
 "metadata": {
  "kernelspec": {
   "display_name": "Python 3 (ipykernel)",
   "language": "python",
   "name": "python3"
  },
  "language_info": {
   "codemirror_mode": {
    "name": "ipython",
    "version": 3
   },
   "file_extension": ".py",
   "mimetype": "text/x-python",
   "name": "python",
   "nbconvert_exporter": "python",
   "pygments_lexer": "ipython3",
   "version": "3.11.8"
  }
 },
 "nbformat": 4,
 "nbformat_minor": 5
}
